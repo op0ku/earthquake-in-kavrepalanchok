{
 "cells": [
  {
   "cell_type": "markdown",
   "id": "d36f2152",
   "metadata": {},
   "source": [
    "# Building machine learning model to predict building damage in Kavrepalanchok, Nepal after an earthquake"
   ]
  },
  {
   "cell_type": "code",
   "execution_count": null,
   "id": "6b9dda7b",
   "metadata": {},
   "outputs": [],
   "source": [
    "# Import libraries here\n",
    "import sqlite3\n",
    "import matplotlib.pyplot as plt\n",
    "import numpy as np\n",
    "import pandas as pd\n",
    "import seaborn as sns\n",
    "from category_encoders import OneHotEncoder, OrdinalEncoder\n",
    "from sklearn.linear_model import LogisticRegression\n",
    "from sklearn.tree import DecisionTreeClassifier, plot_tree\n",
    "from sklearn.metrics import accuracy_score\n",
    "from sklearn.model_selection import train_test_split\n",
    "from sklearn.pipeline import Pipeline, make_pipeline\n",
    "from sklearn.utils.validation import check_is_fitted"
   ]
  },
  {
   "cell_type": "code",
   "execution_count": null,
   "id": "4d4ccd46",
   "metadata": {},
   "outputs": [],
   "source": [
    "#build wrangle function to clean the dataset collected from a database\n",
    "def wrangle(db_path):\n",
    "    conn = sqlite3.connect(db_path)\n",
    "    query = \"\"\"\n",
    "        SELECT DISTINCT(i.building_id) AS b_id,\n",
    "        s.*,\n",
    "        d.damage_grade\n",
    "        FROM id_map AS i\n",
    "        JOIN building_structure AS s\n",
    "        ON i.building_id = s.building_id\n",
    "        JOIN building_damage AS d\n",
    "        ON i.building_id = d.building_id\n",
    "        WHERE district_id = 3\n",
    "    \"\"\"\n",
    "    \n",
    "    # Read query results into DataFrame\n",
    "    df = pd.read_sql(query, conn, index_col=\"b_id\")\n",
    "\n",
    "    # Identify leaky columns\n",
    "    drop_cols = [col for col in df.columns if \"post_eq\" in col]\n",
    "\n",
    "    # Add high-cardinality / redundant column\n",
    "    drop_cols.append(\"building_id\")\n",
    "\n",
    "    # Create binary target column\n",
    "    df[\"damage_grade\"] = df[\"damage_grade\"].str[-1].astype(int)\n",
    "    df[\"severe_damage\"] = (df[\"damage_grade\"] > 3).astype(int)\n",
    "\n",
    "    # Drop old target\n",
    "    drop_cols.append(\"damage_grade\")\n",
    "\n",
    "    # Drop multicollinearity column\n",
    "    drop_cols.append(\"count_floors_pre_eq\")\n",
    "\n",
    "    # Drop columns\n",
    "    df.drop(columns=drop_cols, inplace=True)\n",
    "\n",
    "    return df"
   ]
  },
  {
   "cell_type": "code",
   "execution_count": null,
   "id": "7ffbc8c9",
   "metadata": {},
   "outputs": [],
   "source": [
    "#use wrangle functionto query the database\n",
    "df = wrangle('/home/jovyan/nepal.sqlite')\n",
    "df.head()"
   ]
  },
  {
   "cell_type": "code",
   "execution_count": null,
   "id": "0d994cb4",
   "metadata": {},
   "outputs": [],
   "source": [
    "# Bar chart of the label to be predicted, \"severe_damage\"`\n",
    "df['severe_damage'].value_counts(normalize=True).plot(kind='bar')\n",
    "plt.xlabel('Severe Damage')\n",
    "plt.ylabel('Relative Frequency')\n",
    "plt.title('Kavrepalanchok, Class Balance')"
   ]
  },
  {
   "cell_type": "code",
   "execution_count": null,
   "id": "ba282dc1",
   "metadata": {},
   "outputs": [],
   "source": [
    "# Boxplot of distribution of the label classes`\n",
    "sns.boxplot(x='severe_damage', y='plinth_area_sq_ft', data=df)\n",
    "\n",
    "# Don't delete the code below 👇\n",
    "plt.savefig(\"images/4-5-7.png\", dpi=150)\n",
    "plt.xlabel('Severe Damage')\n",
    "plt.ylabel('Plinth Area [sq. ft.]')\n",
    "plt.title('Kavrepalanchok, Plinth Area vs Building Damage');"
   ]
  },
  {
   "cell_type": "code",
   "execution_count": null,
   "id": "82a82d4c",
   "metadata": {},
   "outputs": [],
   "source": [
    "#frequencies of roof types more likely to suffer severe damage\n",
    "roof_pivot = pd.pivot_table(\n",
    "        df, index='roof_type', values='severe_damage', aggfunc=np.mean).sort_values(by='severe_damage')\n",
    "roof_pivot"
   ]
  },
  {
   "cell_type": "code",
   "execution_count": null,
   "id": "16e490f6",
   "metadata": {},
   "outputs": [],
   "source": [
    "#preparing the dataset to train the machine learning model\n",
    "target = 'severe_damage'\n",
    "X = df.drop(columns=target)\n",
    "y = df[target]\n",
    "print(\"X shape:\", X.shape)\n",
    "print(\"y shape:\", y.shape)\n",
    "\n",
    "X_train, X_val, y_train, y_val = train_test_split(X, y, test_size=.2, random_state=42)\n",
    "print(\"X_train shape:\", X_train.shape)\n",
    "print(\"y_train shape:\", y_train.shape)\n",
    "print(\"X_val shape:\", X_val.shape)\n",
    "print(\"y_val shape:\", y_val.shape)"
   ]
  },
  {
   "cell_type": "code",
   "execution_count": null,
   "id": "5e52e60e",
   "metadata": {},
   "outputs": [],
   "source": [
    "#calculate the baseline accuracy score for the model\n",
    "acc_baseline = df['severe_damage'].value_counts(normalize=True).max()\n",
    "print(\"Baseline Accuracy:\", round(acc_baseline, 2))"
   ]
  },
  {
   "cell_type": "code",
   "execution_count": null,
   "id": "96b88745",
   "metadata": {},
   "outputs": [],
   "source": [
    "#train logistic regression model with the dataset\n",
    "model_lr = make_pipeline(\n",
    "    OneHotEncoder(use_cat_names=True),\n",
    "    LogisticRegression(max_iter=1000))\n",
    "model_lr.fit(X_train, y_train)"
   ]
  },
  {
   "cell_type": "code",
   "execution_count": null,
   "id": "b1349e61",
   "metadata": {},
   "outputs": [],
   "source": [
    "#calculate the training & validation accuracy score for the logistic regression model\n",
    "lr_train_acc = model_lr.score(X_train, y_train)\n",
    "lr_val_acc = model_lr.score(X_val, y_val)\n",
    "\n",
    "print(\"Logistic Regression, Training Accuracy Score:\", lr_train_acc)\n",
    "print(\"Logistic Regression, Validation Accuracy Score:\", lr_val_acc)"
   ]
  },
  {
   "cell_type": "code",
   "execution_count": null,
   "id": "41124197",
   "metadata": {},
   "outputs": [],
   "source": [
    "#train a decision tree model with the dataset\n",
    "depth_hyperparams = range(1, 16)\n",
    "training_acc = []\n",
    "validation_acc = []\n",
    "for d in depth_hyperparams:\n",
    "    model_dt = make_pipeline(\n",
    "        OrdinalEncoder(),\n",
    "        DecisionTreeClassifier(max_depth=d, random_state=42))\n",
    "    model_dt.fit(X_train, y_train)\n",
    "    training_acc.append(model_dt.score(X_train, y_train))\n",
    "    validation_acc.append(model_dt.score(X_val, y_val))"
   ]
  },
  {
   "cell_type": "code",
   "execution_count": null,
   "id": "69437045",
   "metadata": {},
   "outputs": [],
   "source": [
    "#Plot a validation curve for the decision tree model, to return the best parameters\n",
    "plt.plot(depth_hyperparams, validation_acc, label='validation')\n",
    "plt.xlabel('Max Depth')\n",
    "plt.ylabel('Accuracy Score')\n",
    "plt.title('Validation Curve, Decision Tree Model')\n",
    "plt.legend();"
   ]
  },
  {
   "cell_type": "code",
   "execution_count": null,
   "id": "b60f7533",
   "metadata": {},
   "outputs": [],
   "source": [
    "#retrain the decision tree model with the best hyperparameters\n",
    "final_model_dt = make_pipeline(\n",
    "        OrdinalEncoder(),\n",
    "        DecisionTreeClassifier(max_depth=10, random_state=42))\n",
    "final_model_dt.fit(X_train, y_train)"
   ]
  },
  {
   "cell_type": "code",
   "execution_count": null,
   "id": "44474113",
   "metadata": {},
   "outputs": [],
   "source": [
    "#plot most important features contributing to the purity of the decision tree model\n",
    "feat_imp.plot(kind='barh')\n",
    "plt.xlabel('Gini Importance')\n",
    "plt.ylabel('Feature')\n",
    "plt.title('Kavrepalanchok Decision Tree, Feature Importance')"
   ]
  }
 ],
 "metadata": {
  "kernelspec": {
   "display_name": "Python 3 (ipykernel)",
   "language": "python",
   "name": "python3"
  },
  "language_info": {
   "codemirror_mode": {
    "name": "ipython",
    "version": 3
   },
   "file_extension": ".py",
   "mimetype": "text/x-python",
   "name": "python",
   "nbconvert_exporter": "python",
   "pygments_lexer": "ipython3",
   "version": "3.11.5"
  }
 },
 "nbformat": 4,
 "nbformat_minor": 5
}
